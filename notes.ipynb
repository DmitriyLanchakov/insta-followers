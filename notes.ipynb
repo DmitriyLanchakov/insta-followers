{
 "cells": [
  {
   "cell_type": "code",
   "execution_count": 1,
   "metadata": {
    "collapsed": true
   },
   "outputs": [],
   "source": [
    "%run -n main.py\n",
    "%matplotlib inline\n",
    "%config InlineBackend.figure_format = 'retina'"
   ]
  },
  {
   "cell_type": "code",
   "execution_count": 2,
   "metadata": {
    "collapsed": false,
    "scrolled": false
   },
   "outputs": [],
   "source": [
    "SEED_USERNAMES = [\n",
    "    'alexey_rubtsov',\n",
    "    'gelmanovrustam',\n",
    "    'adam.ondra',\n",
    "    'alexhonnold',\n",
    "    'chris_sharma',\n",
    "    'alexandermegos',\n",
    "    'shaunacoxsey'\n",
    "]\n",
    "\n",
    "\n",
    "# urls = [get_insta_user_by_username_url(_) for _ in SEED_USERNAMES]\n",
    "# fetch_jsons(log_progress(urls, every=1))"
   ]
  },
  {
   "cell_type": "code",
   "execution_count": 3,
   "metadata": {
    "collapsed": false
   },
   "outputs": [],
   "source": [
    "users = {load_insta_user_by_username(_) for _ in SEED_USERNAMES}\n",
    "users_level = {0: users}"
   ]
  },
  {
   "cell_type": "code",
   "execution_count": 8,
   "metadata": {
    "collapsed": false
   },
   "outputs": [],
   "source": [
    "# cache = set(list_json_cache())\n",
    "# urls = [get_insta_related_url(_.id) for _ in users_level[0]]\n",
    "# fetch_jsons(log_progress(set(urls) - cache, every=1))"
   ]
  },
  {
   "cell_type": "code",
   "execution_count": 9,
   "metadata": {
    "collapsed": true
   },
   "outputs": [],
   "source": [
    "users = set()\n",
    "for user in users_level[0]:\n",
    "    for related in load_insta_related(user.id):\n",
    "        users.add(related)\n",
    "users_level[1] = users - users_level[0]"
   ]
  },
  {
   "cell_type": "code",
   "execution_count": 10,
   "metadata": {
    "collapsed": false
   },
   "outputs": [],
   "source": [
    "# cache = set(list_json_cache())\n",
    "# urls = [get_insta_related_url(_.id) for _ in users_level[1]]\n",
    "# fetch_jsons(log_progress(set(urls) - cache, every=1))"
   ]
  },
  {
   "cell_type": "code",
   "execution_count": 11,
   "metadata": {
    "collapsed": false
   },
   "outputs": [],
   "source": [
    "users = set()\n",
    "for user in users_level[1]:\n",
    "    for related in load_insta_related(user.id):\n",
    "        users.add(related)\n",
    "users_level[2] = users - users_level[1] - users_level[0]"
   ]
  },
  {
   "cell_type": "code",
   "execution_count": 12,
   "metadata": {
    "collapsed": false
   },
   "outputs": [],
   "source": [
    "# cache = set(list_json_cache())\n",
    "# urls = [get_insta_related_url(_.id) for _ in users_level[2]]\n",
    "# fetch_jsons(log_progress(set(urls) - cache, every=1))"
   ]
  },
  {
   "cell_type": "code",
   "execution_count": 13,
   "metadata": {
    "collapsed": true
   },
   "outputs": [],
   "source": [
    "users = set()\n",
    "for user in users_level[2]:\n",
    "    for related in load_insta_related(user.id):\n",
    "        users.add(related)\n",
    "users_level[3] = users - users_level[2] - users_level[1] - users_level[0]"
   ]
  },
  {
   "cell_type": "code",
   "execution_count": 13,
   "metadata": {
    "collapsed": false
   },
   "outputs": [],
   "source": [
    "# скачать то что не скачалось\n",
    "# users = set()\n",
    "# for level in xrange(3):\n",
    "#     for user in users_level[level]:\n",
    "#         related = list(load_insta_related(user.id))\n",
    "#         if not related:\n",
    "#             users.add(user)"
   ]
  },
  {
   "cell_type": "code",
   "execution_count": 14,
   "metadata": {
    "collapsed": false
   },
   "outputs": [],
   "source": [
    "# urls = [get_insta_related_url(_.id) for _ in users if not list(load_insta_related(_.id))]\n",
    "# fetch_jsons(log_progress(urls, every=1))"
   ]
  },
  {
   "cell_type": "code",
   "execution_count": 14,
   "metadata": {
    "collapsed": false
   },
   "outputs": [],
   "source": [
    "users = set()\n",
    "for level in xrange(3):\n",
    "    for user in users_level[level]:\n",
    "        users.add(user)"
   ]
  },
  {
   "cell_type": "code",
   "execution_count": 16,
   "metadata": {
    "collapsed": false
   },
   "outputs": [],
   "source": [
    "# # оч хороший получается граф\n",
    "# graph = make_graph(users)\n",
    "# save_graph(graph)"
   ]
  },
  {
   "cell_type": "code",
   "execution_count": 25,
   "metadata": {
    "collapsed": false
   },
   "outputs": [],
   "source": [
    "user_indegrees = Counter()\n",
    "for user in users:\n",
    "    for related in load_insta_related(user.id):\n",
    "        user_indegrees[related] += 1\n",
    "        \n",
    "# for user, degree in user_indegrees.most_common(5000)[-100:]:\n",
    "#     print degree, '\\t', get_insta_url(user.username)"
   ]
  },
  {
   "cell_type": "code",
   "execution_count": 18,
   "metadata": {
    "collapsed": false
   },
   "outputs": [],
   "source": [
    "# urls = []\n",
    "# for user, degree in user_indegrees.most_common(2000)[-1000:]:\n",
    "#     url = get_insta_user_by_username_url(user.username)\n",
    "#     urls.append(url)\n",
    "# cache = set(list_json_cache())\n",
    "# fetch_jsons(log_progress(set(urls) - cache, every=1))"
   ]
  },
  {
   "cell_type": "code",
   "execution_count": 19,
   "metadata": {
    "collapsed": false,
    "scrolled": false
   },
   "outputs": [],
   "source": [
    "# скачать то, что не скачалось\n",
    "# for user, degree in user_indegrees.most_common(2000):\n",
    "#     if not load_insta_user_by_username(user.username):\n",
    "#         url = get_insta_user_by_username_url(user.username)\n",
    "#         fetch_json(url)"
   ]
  },
  {
   "cell_type": "code",
   "execution_count": 35,
   "metadata": {
    "collapsed": false
   },
   "outputs": [],
   "source": [
    "%run -n main.py\n",
    "user_profiles = []\n",
    "for user, degree in user_indegrees.most_common(1900):\n",
    "    user_profiles.append(load_insta_user_by_username(user.username))\n",
    "# dump_users_check(user_profiles, user_indegrees)"
   ]
  },
  {
   "cell_type": "code",
   "execution_count": 22,
   "metadata": {
    "collapsed": false
   },
   "outputs": [],
   "source": [
    "# %run -n main.py\n",
    "# check_usernames = list(load_users_check(all=True))"
   ]
  },
  {
   "cell_type": "code",
   "execution_count": 22,
   "metadata": {
    "collapsed": false
   },
   "outputs": [],
   "source": [
    "# cache = set(list_json_cache())\n",
    "# urls = [get_insta_media_url(_) for _ in check_usernames]\n",
    "# fetch_jsons(log_progress(set(urls) - cache, every=1))"
   ]
  },
  {
   "cell_type": "code",
   "execution_count": 23,
   "metadata": {
    "collapsed": true
   },
   "outputs": [],
   "source": [
    "# cкачать то что не скачалось\n",
    "# for username in check_usernames:\n",
    "#     media = list(load_insta_media(username))\n",
    "#     if not media:\n",
    "#         url = get_insta_media_url(username)\n",
    "#         fetch_json(url)"
   ]
  },
  {
   "cell_type": "code",
   "execution_count": 36,
   "metadata": {
    "collapsed": false
   },
   "outputs": [],
   "source": [
    "%run -n main.py\n",
    "media = []\n",
    "for user in user_profiles:\n",
    "    media.extend(load_insta_media(user.username))"
   ]
  },
  {
   "cell_type": "code",
   "execution_count": 209,
   "metadata": {
    "collapsed": false
   },
   "outputs": [
    {
     "data": {
      "image/png": "[encoded data removed]",
      "text/plain": [
       "<matplotlib.figure.Figure at 0x111cbfe10>"
      ]
     },
     "metadata": {
      "image/png": {
       "height": 362,
       "width": 507
      }
     },
     "output_type": "display_data"
    }
   ],
   "source": [
    "%run -n main.py\n",
    "show_likes_comments(media)"
   ]
  },
  {
   "cell_type": "code",
   "execution_count": 38,
   "metadata": {
    "collapsed": false,
    "scrolled": false
   },
   "outputs": [],
   "source": [
    "%run -n main.py\n",
    "username_users = {_.username: _ for _ in user_profiles}\n",
    "username_media = defaultdict(list)\n",
    "for record in media:\n",
    "    username_media[record.username].append(record)\n",
    "# for username in check_usernames[700:800]:\n",
    "#     show_insta_user(username_users[username])\n",
    "#     show_insta_media(username_media[username][:10])"
   ]
  },
  {
   "cell_type": "code",
   "execution_count": 47,
   "metadata": {
    "collapsed": true
   },
   "outputs": [],
   "source": [
    "%run -n main.py\n",
    "check_usernames = list(load_users_check(all=False))  # 516 actually"
   ]
  },
  {
   "cell_type": "code",
   "execution_count": 23,
   "metadata": {
    "collapsed": false,
    "scrolled": false
   },
   "outputs": [],
   "source": [
    "# for username in check_usernames[200:400]:\n",
    "#     show_insta_user(username_users[username])\n",
    "#     show_insta_media(username_media[username][:10])"
   ]
  },
  {
   "cell_type": "code",
   "execution_count": 183,
   "metadata": {
    "collapsed": false,
    "scrolled": false
   },
   "outputs": [],
   "source": [
    "# for username in check_usernames:\n",
    "#     count = username_users[username].followers\n",
    "#     counts[username] = count\n",
    "# for username, count in counts.most_common(100):\n",
    "#     show_insta_user(username_users[username])\n",
    "#     show_insta_media(username_media[username][:10])"
   ]
  },
  {
   "cell_type": "code",
   "execution_count": 57,
   "metadata": {
    "collapsed": false,
    "scrolled": false
   },
   "outputs": [],
   "source": [
    "# counts = Counter()\n",
    "# for username in check_usernames:\n",
    "#     # count = sum(_.likes for _ in username_media[username])\n",
    "#     # count /= float(username_users[username].followers)\n",
    "#     count = username_users[username].followers\n",
    "#     counts[username] = count\n",
    "# # for username, count in counts.most_common(100):\n",
    "for username in check_usernames[:100]:\n",
    "    show_insta_user(username_users[username])\n",
    "    show_insta_media(username_media[username][:10])"
   ]
  },
  {
   "cell_type": "code",
   "execution_count": 59,
   "metadata": {
    "collapsed": false
   },
   "outputs": [],
   "source": [
    "# selection = [\n",
    "#     'shaunacoxsey',\n",
    "#     'alexhonnold',\n",
    "#     'chris_sharma',\n",
    "#     'sheneenagins',\n",
    "#     'alexandermegos',\n",
    "#     'alex_puccio89',\n",
    "#     'mccollsean',\n",
    "#     'sonnietrotter',\n",
    "#     'nalle_hukkataival',\n",
    "#     'alexjohnson89',\n",
    "#     'jakob.schubert'\n",
    "# ]\n",
    "# for username in selection:\n",
    "#     show_insta_user(username_users[username])"
   ]
  },
  {
   "cell_type": "code",
   "execution_count": null,
   "metadata": {
    "collapsed": true
   },
   "outputs": [],
   "source": []
  }
 ],
 "metadata": {
  "kernelspec": {
   "display_name": "Python 2",
   "language": "python",
   "name": "python2"
  },
  "language_info": {
   "codemirror_mode": {
    "name": "ipython",
    "version": 2
   },
   "file_extension": ".py",
   "mimetype": "text/x-python",
   "name": "python",
   "nbconvert_exporter": "python",
   "pygments_lexer": "ipython2",
   "version": "2.7.10"
  }
 },
 "nbformat": 4,
 "nbformat_minor": 0
}
